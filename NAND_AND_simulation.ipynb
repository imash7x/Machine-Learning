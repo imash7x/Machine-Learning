{
  "cells": [
    {
      "cell_type": "markdown",
      "source": [
        "\n",
        ">**22MCA0394**\n",
        "\n",
        "> **ASHISH PATEL**\n",
        "\n",
        ">**MACHINE LEARNING**\n",
        "\n",
        "> **DIGITAL ASSIGNMENT 2**\n",
        "\n",
        "---\n",
        "\n"
      ],
      "metadata": {
        "id": "QiMdWInCHf3l"
      }
    },
    {
      "cell_type": "markdown",
      "source": [
        "**1) Simulate NAND gate and three input AND gate using single/multi-layer perceptron.**"
      ],
      "metadata": {
        "id": "KZx1klb8ROWY"
      }
    },
    {
      "cell_type": "markdown",
      "source": [
        "**NAND** **MULTI-LAYER** **PERCEPTRON**"
      ],
      "metadata": {
        "id": "bCQDA0TiHP61"
      }
    },
    {
      "cell_type": "code",
      "execution_count": 1,
      "metadata": {
        "ExecuteTime": {
          "end_time": "2020-06-16T21:42:01.273573Z",
          "start_time": "2020-06-16T21:42:01.267581Z"
        },
        "id": "bl5lEcwwrXxD"
      },
      "outputs": [],
      "source": [
        "import tensorflow as tf\n",
        "import numpy as np"
      ]
    },
    {
      "cell_type": "code",
      "execution_count": 2,
      "metadata": {
        "ExecuteTime": {
          "end_time": "2020-06-16T21:42:01.885578Z",
          "start_time": "2020-06-16T21:42:01.869592Z"
        },
        "id": "jB2RRHBSrXxS"
      },
      "outputs": [],
      "source": [
        "X1=tf.Variable(initial_value=[0., 0., 0., 0., 1., 1., 1., 1.])\n",
        "X2=tf.Variable(initial_value=[0.,0.,1.,1.,0.,0.,1.,1.])\n",
        "X3=tf.Variable(initial_value=[0., 1., 0., 1., 0., 1., 0., 1.])\n",
        "Y_NAND=tf.Variable(initial_value=[1.,1.,1.,1.,1.,1.,1.,0.])"
      ]
    },
    {
      "cell_type": "code",
      "execution_count": 3,
      "metadata": {
        "ExecuteTime": {
          "end_time": "2020-06-16T21:45:00.293832Z",
          "start_time": "2020-06-16T21:45:00.280846Z"
        },
        "id": "YGIOlxW4rXxc"
      },
      "outputs": [],
      "source": [
        "class Model(object):\n",
        "\n",
        "   def __init__(self):\n",
        "\n",
        "         # Initialize the weights to `2.0` and the bias to `2.0`\n",
        "         # In practice, these should be initialized to random values\n",
        "         # self.W1=tf.random.normal([1])\n",
        "        self.W1 = tf.Variable(2.)\n",
        "        self.W2= tf.Variable(2.)\n",
        "        self.W3= tf.Variable(2.)\n",
        "        self.b=tf.Variable(2.)\n",
        "\n",
        "   def __call__(self, x1,x2,x3):\n",
        "        self.K1=self.W1 * x1 + self.W2 * x2 + self.W3 * x3 + self.b\n",
        "        self.Output = tf.keras.activations.sigmoid(self.K1)\n",
        "        return(self.Output)\n",
        "model=Model()"
      ]
    },
    {
      "cell_type": "code",
      "execution_count": 4,
      "metadata": {
        "ExecuteTime": {
          "end_time": "2020-06-16T21:45:14.708758Z",
          "start_time": "2020-06-16T21:45:14.701765Z"
        },
        "id": "AsN0rpGsrXxf"
      },
      "outputs": [],
      "source": [
        "def compute_cost(target_y, predicted_y):\n",
        "    c=tf.keras.losses.BinaryCrossentropy()\n",
        "    return(c(target_y,predicted_y))"
      ]
    },
    {
      "cell_type": "code",
      "execution_count": 5,
      "metadata": {
        "ExecuteTime": {
          "end_time": "2020-06-16T21:45:16.146802Z",
          "start_time": "2020-06-16T21:45:16.141809Z"
        },
        "id": "M_lVHftZrXxh"
      },
      "outputs": [],
      "source": [
        "def None_to_Zero(v):\n",
        "    if v==None:\n",
        "        v=0\n",
        "    return v"
      ]
    },
    {
      "cell_type": "code",
      "execution_count": 6,
      "metadata": {
        "ExecuteTime": {
          "end_time": "2020-06-16T21:45:17.574708Z",
          "start_time": "2020-06-16T21:45:17.566714Z"
        },
        "id": "5Y6_O8sorXxj"
      },
      "outputs": [],
      "source": [
        "def train(model, X1, X2, x3, Y2, learning_rate):\n",
        "    with tf.GradientTape() as t:\n",
        "            current_loss = compute_cost(Y2,model(X1,X2,x3))\n",
        "    dW1,dW2,dW3,db=t.gradient(current_loss,[model.W1,model.W2,model.W3,model.b])\n",
        "    dW1=None_to_Zero(dW1)\n",
        "    db=None_to_Zero(db)\n",
        "    dW2=None_to_Zero(dW2)\n",
        "    dW3=None_to_Zero(dW3)\n",
        "    model.W1.assign_sub(learning_rate * dW1)\n",
        "    model.b.assign_sub(learning_rate * db)\n",
        "    model.W2.assign_sub(learning_rate * dW2)\n",
        "    model.W3.assign_sub(learning_rate * dW3)"
      ]
    },
    {
      "cell_type": "markdown",
      "metadata": {
        "id": "7kni_qy8rXxl"
      },
      "source": [
        "# Model For NAND Gate"
      ]
    },
    {
      "cell_type": "code",
      "execution_count": 7,
      "metadata": {
        "ExecuteTime": {
          "end_time": "2020-06-16T21:45:25.216688Z",
          "start_time": "2020-06-16T21:45:20.117436Z"
        },
        "id": "3cECWW00rXxm",
        "outputId": "5f60eb4c-4dbf-465f-c996-6accdbfcfee0",
        "colab": {
          "base_uri": "https://localhost:8080/"
        }
      },
      "outputs": [
        {
          "output_type": "stream",
          "name": "stdout",
          "text": [
            "[1. 1. 1. 1. 1. 1. 1. 0.]\n"
          ]
        }
      ],
      "source": [
        "epochs=range(5000)\n",
        "learning_rate=0.1\n",
        "for epoch in epochs:\n",
        "    train(model, X1, X2, X3, Y_NAND, learning_rate)\n",
        "\n",
        "print(np.round(model(X1, X2, X3).numpy()))"
      ]
    },
    {
      "cell_type": "code",
      "execution_count": 8,
      "metadata": {
        "ExecuteTime": {
          "end_time": "2020-06-16T21:45:25.227676Z",
          "start_time": "2020-06-16T21:45:25.219685Z"
        },
        "id": "OiHNk9UdrXxp"
      },
      "outputs": [],
      "source": [
        "W_NAND={'W1':model.W1.numpy(),'W2':model.W2.numpy(),'W3':model.W3.numpy(),'b':model.b.numpy()}"
      ]
    },
    {
      "cell_type": "code",
      "execution_count": 9,
      "metadata": {
        "ExecuteTime": {
          "end_time": "2020-06-16T21:45:25.365341Z",
          "start_time": "2020-06-16T21:45:25.233672Z"
        },
        "id": "MvTHkSWyrXxq",
        "outputId": "f2b3eabd-d9e9-4562-c01f-33898951ff15",
        "colab": {
          "base_uri": "https://localhost:8080/"
        }
      },
      "outputs": [
        {
          "output_type": "execute_result",
          "data": {
            "text/plain": [
              "<tf.Variable 'Variable:0' shape=() dtype=float32, numpy=9.727246>"
            ]
          },
          "metadata": {},
          "execution_count": 9
        }
      ],
      "source": [
        "model.b"
      ]
    },
    {
      "cell_type": "code",
      "execution_count": 10,
      "metadata": {
        "ExecuteTime": {
          "end_time": "2020-06-16T21:45:25.629006Z",
          "start_time": "2020-06-16T21:45:25.504235Z"
        },
        "id": "22r_xnqvrXxu",
        "outputId": "791e58db-9d57-4e15-c74d-07f8b2d4b8bb",
        "colab": {
          "base_uri": "https://localhost:8080/"
        }
      },
      "outputs": [
        {
          "output_type": "execute_result",
          "data": {
            "text/plain": [
              "{'W1': -3.6939921, 'W2': -3.6939921, 'W3': -3.6939921, 'b': 9.727246}"
            ]
          },
          "metadata": {},
          "execution_count": 10
        }
      ],
      "source": [
        "W_NAND"
      ]
    },
    {
      "cell_type": "markdown",
      "source": [
        "**AND SINGLE-LAYER PERCEPTRON**"
      ],
      "metadata": {
        "id": "5g6IOn5rRDnb"
      }
    },
    {
      "cell_type": "code",
      "source": [
        "import numpy as np\n",
        "\n",
        "# Function to simulate an AND gate using a single-layer perceptron (SLP) with 3 inputs (x1, x2, and x3)\n",
        "def simulate_and_gate(inputs, last_weights=None):\n",
        "    weights = np.array([1, 1, 1])  # Weights for x1, x2, and x3\n",
        "    bias = -2.5  # Adjusted bias to account for the AND gate logic\n",
        "    output = np.dot(inputs, weights) + bias\n",
        "\n",
        "    if last_weights is not None:\n",
        "        updated_last_weights = last_weights + output\n",
        "        updated_weights = np.append(weights[:-1], updated_last_weights)\n",
        "        updated_bias = bias + output\n",
        "        return 1 if output >= 0 else 0, {'W1': updated_weights[0], 'W2': updated_weights[1], 'W3': updated_weights[2], 'b': updated_bias}\n",
        "\n",
        "    return 1 if output >= 0 else 0, {'W1': weights[0], 'W2': weights[1], 'W3': weights[2], 'b': bias}\n",
        "\n",
        "input_data = np.array([[0, 0, 0], [0, 0, 1], [0, 1, 0], [0, 1, 1],\n",
        "                       [1, 0, 0], [1, 0, 1], [1, 1, 0], [1, 1, 1]])\n",
        "last_weights = None\n",
        "\n",
        "print(\"AND Gate with 3 inputs using Single-Layer Perceptron:\")\n",
        "for input_triplet in input_data:\n",
        "    output, last_weights_dict = simulate_and_gate(input_triplet, last_weights)\n",
        "    print(f\"({input_triplet[0]} AND {input_triplet[1]} AND {input_triplet[2]}) = {output}\")\n",
        "    last_weights = np.array([last_weights_dict['W1'], last_weights_dict['W2'], last_weights_dict['W3']])\n",
        "\n",
        "print(\"Updated weights:\", last_weights_dict)\n"
      ],
      "metadata": {
        "colab": {
          "base_uri": "https://localhost:8080/"
        },
        "id": "Id-jusOxOYtQ",
        "outputId": "d0467ec9-a3cc-43dd-c1e9-7c89ecdaa7bf"
      },
      "execution_count": 11,
      "outputs": [
        {
          "output_type": "stream",
          "name": "stdout",
          "text": [
            "AND Gate with 3 inputs using Single-Layer Perceptron:\n",
            "(0 AND 0 AND 0) = 0\n",
            "(0 AND 0 AND 1) = 0\n",
            "(0 AND 1 AND 0) = 0\n",
            "(0 AND 1 AND 1) = 0\n",
            "(1 AND 0 AND 0) = 0\n",
            "(1 AND 0 AND 1) = 0\n",
            "(1 AND 1 AND 0) = 0\n",
            "(1 AND 1 AND 1) = 1\n",
            "Updated weights: {'W1': 1.0, 'W2': 1.0, 'W3': 1.5, 'b': -2.0}\n"
          ]
        }
      ]
    }
  ],
  "metadata": {
    "kernelspec": {
      "display_name": "Python 3",
      "language": "python",
      "name": "python3"
    },
    "language_info": {
      "codemirror_mode": {
        "name": "ipython",
        "version": 3
      },
      "file_extension": ".py",
      "mimetype": "text/x-python",
      "name": "python",
      "nbconvert_exporter": "python",
      "pygments_lexer": "ipython3",
      "version": "3.7.6"
    },
    "colab": {
      "provenance": []
    }
  },
  "nbformat": 4,
  "nbformat_minor": 0
}